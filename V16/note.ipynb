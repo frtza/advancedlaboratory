{
 "cells": [
  {
   "cell_type": "markdown",
   "id": "1ada3da8-3a5b-4892-a322-a837308735e3",
   "metadata": {},
   "source": [
    "## V16 Rutherford Streuversuch"
   ]
  },
  {
   "cell_type": "code",
   "execution_count": null,
   "id": "a404dd0c-7169-4777-83e2-2698c4561660",
   "metadata": {},
   "outputs": [],
   "source": []
  }
 ],
 "metadata": {
  "kernelspec": {
   "display_name": "Python 3 (ipykernel)",
   "language": "python",
   "name": "python3"
  },
  "language_info": {
   "codemirror_mode": {
    "name": "ipython",
    "version": 3
   },
   "file_extension": ".py",
   "mimetype": "text/x-python",
   "name": "python",
   "nbconvert_exporter": "python",
   "pygments_lexer": "ipython3",
   "version": "3.9.18"
  }
 },
 "nbformat": 4,
 "nbformat_minor": 5
}
