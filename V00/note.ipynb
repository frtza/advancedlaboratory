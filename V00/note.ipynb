{
 "cells": [
  {
   "cell_type": "code",
   "execution_count": 1,
   "id": "eb235e54-9e4c-45d7-b1f9-6ac7f00c1fb9",
   "metadata": {},
   "outputs": [
    {
     "name": "stdout",
     "output_type": "stream",
     "text": [
      "Verschlüsselung:\n",
      "\n",
      "Alice: Basis\n",
      "['x' 'x' 'x' '+' '+' 'x' '+' '+' '+' '+' 'x' '+' 'x' '+' 'x' '+' 'x' 'x'\n",
      " 'x' '+' 'x' '+' '+' 'x' 'x' 'x' 'x' 'x' 'x' 'x' 'x' 'x' '+' 'x' 'x' '+'\n",
      " 'x' '+' 'x' 'x' '+' '+' '+' 'x' '+' 'x' '+' 'x' 'x' '+' '+' 'x']\n",
      "Alice: Bit\n",
      "[0 0 0 1 0 0 1 0 1 1 0 0 0 1 1 1 1 0 1 1 0 0 1 1 1 0 1 0 0 1 1 0 1 1 1 1 0\n",
      " 1 0 0 1 0 1 0 0 0 1 0 1 1 0 1]\n",
      "Bob: Basis\n",
      "['+' '+' 'x' '+' 'x' 'x' '+' 'x' '+' '+' '+' '+' 'x' 'x' '+' 'x' 'x' '+'\n",
      " '+' 'x' 'x' 'x' 'x' 'x' '+' '+' '+' 'x' 'x' 'x' 'x' '+' '+' '+' '+' 'x'\n",
      " 'x' 'x' 'x' '+' 'x' '+' '+' '+' '+' '+' 'x' '+' 'x' '+' 'x' '+']\n",
      "\n",
      "Abhören:\n",
      "\n",
      "Alice: Basis\n",
      "['+' 'x' 'x' 'x' '+' '+' '+' '+' '+' 'x' '+' '+' '+' 'x' '+' '+' 'x' 'x'\n",
      " '+' '+' 'x' '+' 'x' '+' 'x' 'x' 'x' '+' 'x' '+' '+' '+' '+' '+' 'x' 'x'\n",
      " 'x' '+' 'x' 'x' '+' 'x' '+' '+' 'x' '+' '+' 'x' 'x' '+' '+' '+']\n",
      "Alice: Bit\n",
      "[0 0 0 1 0 1 0 0 0 1 1 0 1 0 0 1 1 0 0 1 0 0 1 1 1 0 0 1 0 0 0 1 1 1 1 0 1\n",
      " 1 1 0 0 1 1 0 0 0 1 0 1 1 0 1]\n",
      "Bob: Basis\n",
      "['x' 'x' 'x' 'x' '+' 'x' 'x' 'x' 'x' '+' 'x' '+' '+' 'x' '+' 'x' '+' '+'\n",
      " 'x' 'x' '+' 'x' '+' 'x' 'x' '+' 'x' 'x' '+' 'x' '+' '+' 'x' '+' '+' 'x'\n",
      " '+' '+' 'x' '+' '+' 'x' 'x' 'x' 'x' '+' 'x' 'x' 'x' 'x' 'x' 'x']\n",
      "Eve: Basis\n",
      "['+' 'x' '+' '+' 'x' '+' '+' '+' 'x' '+' '+' 'x' 'x' 'x' '+' '+' '+' 'x'\n",
      " 'x' 'x' 'x' '+' '+' '+' 'x' '+' '+' '+' '+' '+' '+' '+' '+' 'x' '+' 'x'\n",
      " 'x' 'x' 'x' '+' '+' 'x' 'x' 'x' 'x' 'x' 'x' '+' '+' 'x' '+' 'x']\n"
     ]
    }
   ],
   "source": [
    "import numpy as np\n",
    "\n",
    "rng = np.random.default_rng(1234)\n",
    "\n",
    "bases = np.array(['+', 'x'])\n",
    "bits = np.array([0, 1])\n",
    "\n",
    "a_base = rng.choice(bases, 52)\n",
    "a_bit = rng.choice(bits, 52)\n",
    "\n",
    "b_base = rng.choice(bases, 52)\n",
    "\n",
    "\n",
    "print('Verschlüsselung:')\n",
    "print()\n",
    "print('Alice: Basis')\n",
    "print(a_base)\n",
    "print('Alice: Bit')\n",
    "print(a_bit)\n",
    "print('Bob: Basis')\n",
    "print(b_base)\n",
    "print('')\n",
    "\n",
    "a_base = rng.choice(bases, 52)\n",
    "a_bit = rng.choice(bits, 52)\n",
    "\n",
    "b_base = rng.choice(bases, 52)\n",
    "\n",
    "e_base = rng.choice(bases, 52)\n",
    "\n",
    "print('Abhören:')\n",
    "print()\n",
    "print('Alice: Basis')\n",
    "print(a_base)\n",
    "print('Alice: Bit')\n",
    "print(a_bit)\n",
    "print('Bob: Basis')\n",
    "print(b_base)\n",
    "print('Eve: Basis')\n",
    "print(e_base)"
   ]
  }
 ],
 "metadata": {
  "kernelspec": {
   "display_name": "Python 3 (ipykernel)",
   "language": "python",
   "name": "python3"
  },
  "language_info": {
   "codemirror_mode": {
    "name": "ipython",
    "version": 3
   },
   "file_extension": ".py",
   "mimetype": "text/x-python",
   "name": "python",
   "nbconvert_exporter": "python",
   "pygments_lexer": "ipython3",
   "version": "3.11.7"
  }
 },
 "nbformat": 4,
 "nbformat_minor": 5
}
